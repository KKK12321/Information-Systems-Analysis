{
  "nbformat": 4,
  "nbformat_minor": 5,
  "metadata": {
    "kernelspec": {
      "display_name": "Python 3",
      "language": "python",
      "name": "python3"
    },
    "language_info": {
      "codemirror_mode": {
        "name": "ipython",
        "version": 3
      },
      "file_extension": ".py",
      "mimetype": "text/x-python",
      "name": "python",
      "nbconvert_exporter": "python",
      "pygments_lexer": "ipython3",
      "version": "3.7.10"
    },
    "colab": {
      "name": "DocumentAnalysis1.ipynb",
      "provenance": []
    }
  },
  "cells": [
    {
      "cell_type": "code",
      "metadata": {
        "id": "521b638a"
      },
      "source": [
        "import re\n",
        "import numpy as np\n",
        "import matplotlib.pyplot as plt\n",
        "import pandas as pd\n",
        "import nltk\n",
        "import collections\n",
        "import seaborn as sns\n",
        "from sklearn.feature_extraction.text import TfidfVectorizer\n",
        "from sklearn.feature_extraction.text import CountVectorizer, TfidfVectorizer\n",
        "from nltk.stem.porter import PorterStemmer\n",
        "from sklearn.cluster import KMeans\n",
        "from nltk import word_tokenize\n",
        "from nltk.corpus import stopwords\n",
        "from sklearn.decomposition import PCA\n",
        "from sklearn import metrics"
      ],
      "id": "521b638a",
      "execution_count": 1,
      "outputs": []
    },
    {
      "cell_type": "code",
      "metadata": {
        "colab": {
          "base_uri": "https://localhost:8080/"
        },
        "id": "71c05488",
        "outputId": "0f848060-3a86-4ee7-df68-a649cd33c40d"
      },
      "source": [
        "nltk.download(\"stopwords\")\n",
        "nltk.download(\"wordnet\")\n",
        "nltk.download(\"reuters\")\n",
        "nltk.download(\"punkt\")"
      ],
      "id": "71c05488",
      "execution_count": 2,
      "outputs": [
        {
          "output_type": "stream",
          "text": [
            "[nltk_data] Downloading package stopwords to /root/nltk_data...\n",
            "[nltk_data]   Unzipping corpora/stopwords.zip.\n",
            "[nltk_data] Downloading package wordnet to /root/nltk_data...\n",
            "[nltk_data]   Unzipping corpora/wordnet.zip.\n",
            "[nltk_data] Downloading package reuters to /root/nltk_data...\n",
            "[nltk_data] Downloading package punkt to /root/nltk_data...\n",
            "[nltk_data]   Unzipping tokenizers/punkt.zip.\n"
          ],
          "name": "stdout"
        },
        {
          "output_type": "execute_result",
          "data": {
            "text/plain": [
              "True"
            ]
          },
          "metadata": {
            "tags": []
          },
          "execution_count": 2
        }
      ]
    },
    {
      "cell_type": "code",
      "metadata": {
        "colab": {
          "base_uri": "https://localhost:8080/"
        },
        "id": "30aee009",
        "outputId": "f06748a1-375f-45a6-af48-7976b9959755"
      },
      "source": [
        "from nltk.corpus import brown as corpus\n",
        "nltk.download('brown')"
      ],
      "id": "30aee009",
      "execution_count": 8,
      "outputs": [
        {
          "output_type": "stream",
          "text": [
            "[nltk_data] Downloading package brown to /root/nltk_data...\n",
            "[nltk_data]   Unzipping corpora/brown.zip.\n"
          ],
          "name": "stdout"
        },
        {
          "output_type": "execute_result",
          "data": {
            "text/plain": [
              "True"
            ]
          },
          "metadata": {
            "tags": []
          },
          "execution_count": 8
        }
      ]
    },
    {
      "cell_type": "code",
      "metadata": {
        "colab": {
          "base_uri": "https://localhost:8080/"
        },
        "id": "5bddf8e7",
        "outputId": "128e98a7-1cc4-48bf-d408-80fa44eca956"
      },
      "source": [
        "for n,item in enumerate(corpus.words(corpus.fileids()[1])[:50]):\n",
        "    print(item, end=\" \")\n",
        "    if (n%25) ==24:\n",
        "      print(\" \")"
      ],
      "id": "5bddf8e7",
      "execution_count": 42,
      "outputs": [
        {
          "output_type": "stream",
          "text": [
            "Austin , Texas -- Committee approval of Gov. Price Daniel's `` abandoned property '' act seemed certain Thursday despite the adamant protests of Texas bankers  \n",
            ". Daniel personally led the fight for the measure , which he had watered down considerably since its rejection by two previous Legislatures , in  \n"
          ],
          "name": "stdout"
        }
      ]
    },
    {
      "cell_type": "code",
      "metadata": {
        "colab": {
          "base_uri": "https://localhost:8080/"
        },
        "id": "0ab81add",
        "outputId": "dce16402-da01-49ce-f08c-99329cd96fd1"
      },
      "source": [
        "corpus.categories()"
      ],
      "id": "0ab81add",
      "execution_count": 11,
      "outputs": [
        {
          "output_type": "execute_result",
          "data": {
            "text/plain": [
              "['adventure',\n",
              " 'belles_lettres',\n",
              " 'editorial',\n",
              " 'fiction',\n",
              " 'government',\n",
              " 'hobbies',\n",
              " 'humor',\n",
              " 'learned',\n",
              " 'lore',\n",
              " 'mystery',\n",
              " 'news',\n",
              " 'religion',\n",
              " 'reviews',\n",
              " 'romance',\n",
              " 'science_fiction']"
            ]
          },
          "metadata": {
            "tags": []
          },
          "execution_count": 11
        }
      ]
    },
    {
      "cell_type": "code",
      "metadata": {
        "colab": {
          "base_uri": "https://localhost:8080/"
        },
        "id": "92ac7485",
        "outputId": "45c0332f-42a8-4835-c93a-74d200279259"
      },
      "source": [
        "docs=[corpus.words(fileid) for fileid in corpus.fileids()[:]]\n",
        "print(docs[:5])\n",
        "print(\"num of docs:\", len(docs))\n",
        "print(docs[0])"
      ],
      "id": "92ac7485",
      "execution_count": 15,
      "outputs": [
        {
          "output_type": "stream",
          "text": [
            "[['The', 'Fulton', 'County', 'Grand', 'Jury', 'said', ...], ['Austin', ',', 'Texas', '--', 'Committee', 'approval', ...], ['Several', 'defendants', 'in', 'the', 'Summerdale', ...], ['Oslo', 'The', 'most', 'positive', 'element', 'to', ...], ['East', 'Providence', 'should', 'organize', 'its', ...]]\n",
            "num of docs: 500\n",
            "['The', 'Fulton', 'County', 'Grand', 'Jury', 'said', ...]\n"
          ],
          "name": "stdout"
        }
      ]
    },
    {
      "cell_type": "code",
      "metadata": {
        "id": "11733579"
      },
      "source": [
        "stopWords = stopwords.words('english')\n",
        "charfilter = re.compile('[a-zA-Z]+')\n",
        "#create a tokenizer:\n",
        "def simple_tokenizer(text):\n",
        "    #tokenizing the words:\n",
        "    words = word_tokenize(text)\n",
        "    #converting all the tokens to lower case:\n",
        "    words = map(lambda word: word.lower(), words)\n",
        "    #let's remove every stopwords\n",
        "    words = [word for word in words if word not in stopWords]\n",
        "    #stemming all the tokens\n",
        "    tokens = (list(map(lambda token: PorterStemmer().stem(token), words)))\n",
        "    ntokens = list(filter(lambda token : charfilter.match(token),tokens))\n",
        "    return ntokens"
      ],
      "id": "11733579",
      "execution_count": 16,
      "outputs": []
    },
    {
      "cell_type": "code",
      "metadata": {
        "id": "aba20611"
      },
      "source": [
        "vec = TfidfVectorizer(tokenizer = simple_tokenizer, max_features = 1000, norm = 'l2')"
      ],
      "id": "aba20611",
      "execution_count": 17,
      "outputs": []
    },
    {
      "cell_type": "code",
      "metadata": {
        "id": "91c1384f"
      },
      "source": [
        "train_data = []\n",
        "train_labels = []\n",
        "for file in corpus.fileids():\n",
        "  train_data.append(corpus.raw(file))\n",
        "  train_labels.append(corpus.categories(file))\n",
        "  \n",
        "\n",
        "        "
      ],
      "id": "91c1384f",
      "execution_count": 20,
      "outputs": []
    },
    {
      "cell_type": "code",
      "metadata": {
        "colab": {
          "base_uri": "https://localhost:8080/",
          "height": 1000
        },
        "id": "8ad20d9b",
        "outputId": "ba26d5d8-5b6c-4140-d214-79483e44283b"
      },
      "source": [
        "#consider only 8 categories\n",
        "our_labels = ['adventure','belles_lettres','editorial','fiction','religion','reviews','romance','science_fiction']\n",
        "docs_train = []\n",
        "docs_labels = []\n",
        "for i in range(len(train_labels)):\n",
        "    if any(item in train_labels[i] for item in our_labels):\n",
        "        docs_train.append(train_data[i])\n",
        "        docs_labels.append(train_labels[i])\n",
        "\n",
        "\n",
        "tf_idf = vec.fit_transform(docs_train)\n",
        "print(tf_idf)\n",
        "pca = PCA(60)\n",
        "pca.fit(tf_idf.toarray())\n",
        "docs_pca = pca.transform(tf_idf.toarray())\n",
        "num_clusters = 8\n",
        "km1 = KMeans(n_clusters=num_clusters)\n",
        "clusters1 = km1.fit_predict(tf_idf)\n",
        "\n",
        "#visualising the k means\n",
        "\n",
        "plt.figure(figsize = (8,8))\n",
        "plt.grid()\n",
        "sns.scatterplot(docs_pca[:, 0], docs_pca[:, 1], hue = clusters1)\n",
        "plt.show()"
      ],
      "id": "8ad20d9b",
      "execution_count": 22,
      "outputs": [
        {
          "output_type": "stream",
          "text": [
            "  (0, 648)\t0.011028073118176109\n",
            "  (0, 661)\t0.012090402002584906\n",
            "  (0, 429)\t0.011708815337453963\n",
            "  (0, 800)\t0.011992043850390533\n",
            "  (0, 156)\t0.01057560625947393\n",
            "  (0, 188)\t0.010364810820184709\n",
            "  (0, 772)\t0.009664314492549335\n",
            "  (0, 83)\t0.007992076360207781\n",
            "  (0, 417)\t0.011356056158565948\n",
            "  (0, 926)\t0.013886311825617871\n",
            "  (0, 108)\t0.01057560625947393\n",
            "  (0, 683)\t0.00932231992594913\n",
            "  (0, 255)\t0.012728461004426117\n",
            "  (0, 812)\t0.009160274560304936\n",
            "  (0, 942)\t0.014680052884929042\n",
            "  (0, 56)\t0.010838337723119085\n",
            "  (0, 888)\t0.011107935570011402\n",
            "  (0, 291)\t0.01057560625947393\n",
            "  (0, 1)\t0.010097775875163197\n",
            "  (0, 439)\t0.015230316342887126\n",
            "  (0, 462)\t0.0077112804636583635\n",
            "  (0, 401)\t0.03264345494239404\n",
            "  (0, 427)\t0.00972382917848217\n",
            "  (0, 155)\t0.011529107040880249\n",
            "  (0, 864)\t0.010097775875163197\n",
            "  :\t:\n",
            "  (228, 849)\t0.0436913982353672\n",
            "  (228, 658)\t0.014956451898609648\n",
            "  (228, 279)\t0.09164103933667528\n",
            "  (228, 81)\t0.0276657089668984\n",
            "  (228, 931)\t0.006477605605985251\n",
            "  (228, 114)\t0.05390649372745605\n",
            "  (228, 867)\t0.12937558494589452\n",
            "  (228, 938)\t0.024788435342397976\n",
            "  (228, 845)\t0.005804581938145843\n",
            "  (228, 868)\t0.16171948118236815\n",
            "  (228, 574)\t0.05955551886019589\n",
            "  (228, 593)\t0.05414138078199626\n",
            "  (228, 0)\t0.25875116989178903\n",
            "  (228, 965)\t0.1024223380821665\n",
            "  (228, 925)\t0.11569172900171891\n",
            "  (228, 409)\t0.016171948118236815\n",
            "  (228, 175)\t0.00769485018315631\n",
            "  (228, 296)\t0.03773454560921923\n",
            "  (228, 37)\t0.4258613004469028\n",
            "  (228, 582)\t0.24796987114629782\n",
            "  (228, 36)\t0.059297143100201656\n",
            "  (228, 394)\t0.15093818243687693\n",
            "  (228, 340)\t0.01391418063137475\n",
            "  (228, 948)\t0.023524185327471435\n",
            "  (228, 836)\t0.4689864954288676\n"
          ],
          "name": "stdout"
        },
        {
          "output_type": "stream",
          "text": [
            "/usr/local/lib/python3.7/dist-packages/seaborn/_decorators.py:43: FutureWarning: Pass the following variables as keyword args: x, y. From version 0.12, the only valid positional argument will be `data`, and passing other arguments without an explicit keyword will result in an error or misinterpretation.\n",
            "  FutureWarning\n"
          ],
          "name": "stderr"
        },
        {
          "output_type": "display_data",
          "data": {
            "image/png": "[encoded data removed]",
            "text/plain": [
              "<Figure size 576x576 with 1 Axes>"
            ]
          },
          "metadata": {
            "tags": [],
            "needs_background": "light"
          }
        }
      ]
    },
    {
      "cell_type": "code",
      "metadata": {
        "colab": {
          "base_uri": "https://localhost:8080/",
          "height": 537
        },
        "id": "2a99a8e4",
        "outputId": "3df7de4e-d420-45e9-8958-40969c544d55"
      },
      "source": [
        "#consider only 5 categories\n",
        "our_labels2 = ['hobbies','humor','learned','lore','mystery']\n",
        "docs_train2 = []\n",
        "docs_labels2 = []\n",
        "for i in range(len(train_labels)):\n",
        "    if any(item in train_labels[i] for item in our_labels2):\n",
        "        docs_train2.append(train_data[i])\n",
        "        docs_labels2.append(train_labels[i])\n",
        "\n",
        "tf_idf2 = vec.fit_transform(docs_train2)\n",
        "\n",
        "pca = PCA(60)\n",
        "pca.fit(tf_idf2.toarray())\n",
        "docs_pca = pca.transform(tf_idf2.toarray())\n",
        "num_clusters = 5\n",
        "km2 = KMeans(n_clusters=num_clusters)\n",
        "clusters2 = km2.fit_predict(tf_idf2)\n",
        "\n",
        "#visualising the k means\n",
        "\n",
        "plt.figure(figsize = (8,8))\n",
        "plt.grid()\n",
        "sns.scatterplot(docs_pca[:, 0], docs_pca[:, 1], hue = clusters2)\n",
        "plt.show()"
      ],
      "id": "2a99a8e4",
      "execution_count": 24,
      "outputs": [
        {
          "output_type": "stream",
          "text": [
            "/usr/local/lib/python3.7/dist-packages/seaborn/_decorators.py:43: FutureWarning: Pass the following variables as keyword args: x, y. From version 0.12, the only valid positional argument will be `data`, and passing other arguments without an explicit keyword will result in an error or misinterpretation.\n",
            "  FutureWarning\n"
          ],
          "name": "stderr"
        },
        {
          "output_type": "display_data",
          "data": {
            "image/png": "[encoded data removed]",
            "text/plain": [
              "<Figure size 576x576 with 1 Axes>"
            ]
          },
          "metadata": {
            "tags": [],
            "needs_background": "light"
          }
        }
      ]
    },
    {
      "cell_type": "code",
      "metadata": {
        "colab": {
          "base_uri": "https://localhost:8080/"
        },
        "id": "7596ef92",
        "outputId": "96bd23ff-4904-4b31-f604-91819fba07be"
      },
      "source": [
        "km1.inertia_"
      ],
      "id": "7596ef92",
      "execution_count": 25,
      "outputs": [
        {
          "output_type": "execute_result",
          "data": {
            "text/plain": [
              "42.28460342125154"
            ]
          },
          "metadata": {
            "tags": []
          },
          "execution_count": 25
        }
      ]
    },
    {
      "cell_type": "code",
      "metadata": {
        "colab": {
          "base_uri": "https://localhost:8080/"
        },
        "id": "6b7edc67",
        "outputId": "08de774a-3ade-496f-f3d2-fe4637e7e9b2"
      },
      "source": [
        "km2.inertia_"
      ],
      "id": "6b7edc67",
      "execution_count": 26,
      "outputs": [
        {
          "output_type": "execute_result",
          "data": {
            "text/plain": [
              "55.418005588399645"
            ]
          },
          "metadata": {
            "tags": []
          },
          "execution_count": 26
        }
      ]
    },
    {
      "cell_type": "code",
      "metadata": {
        "scrolled": true,
        "colab": {
          "base_uri": "https://localhost:8080/"
        },
        "id": "eac45fe4",
        "outputId": "1f2b4ab5-3523-4f23-b774-456c543364ab"
      },
      "source": [
        "print(metrics.silhouette_score(tf_idf, clusters1, metric='euclidean'))"
      ],
      "id": "eac45fe4",
      "execution_count": 27,
      "outputs": [
        {
          "output_type": "stream",
          "text": [
            "0.04913962871595539\n"
          ],
          "name": "stdout"
        }
      ]
    },
    {
      "cell_type": "code",
      "metadata": {
        "colab": {
          "base_uri": "https://localhost:8080/"
        },
        "id": "46b61ca1",
        "outputId": "55449c28-355d-496b-cdd7-a8d77dba1071"
      },
      "source": [
        "print(metrics.silhouette_score(tf_idf2, clusters2, metric='euclidean'))"
      ],
      "id": "46b61ca1",
      "execution_count": 28,
      "outputs": [
        {
          "output_type": "stream",
          "text": [
            "0.06412397210929281\n"
          ],
          "name": "stdout"
        }
      ]
    }
  ]
}